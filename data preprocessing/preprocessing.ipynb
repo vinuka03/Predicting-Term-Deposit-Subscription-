{
 "cells": [
  {
   "cell_type": "markdown",
   "metadata": {},
   "source": [
    "loading the data and checking unknown values"
   ]
  },
  {
   "cell_type": "code",
   "execution_count": null,
   "metadata": {
    "vscode": {
     "languageId": "plaintext"
    }
   },
   "outputs": [],
   "source": [
    "import pandas as pd\n",
    "\n",
    "# Load the dataset (update the path as needed)\n",
    "data = pd.read_csv('bank-additional-full.csv', sep=';')\n",
    "\n",
    "\n",
    "# Preview the dataset\n",
    "print(data.head())\n",
    "\n",
    "# Check for data types and missing values\n",
    "print(data.info())\n",
    "\n",
    "\n",
    "\n",
    "# Count the occurrences of \"unknown\" in each column\n",
    "unknown_counts = data.apply(lambda col: col[col == \"unknown\"].count())\n",
    "\n",
    "# Display the counts of \"unknown\" values\n",
    "print(unknown_counts)"
   ]
  },
  {
   "cell_type": "code",
   "execution_count": null,
   "metadata": {
    "vscode": {
     "languageId": "plaintext"
    }
   },
   "outputs": [],
   "source": [
    "# Check for null values in each column\n",
    "null_counts = data.isnull().sum()\n",
    "\n",
    "# Display the counts of null values\n",
    "print(null_counts)"
   ]
  },
  {
   "cell_type": "code",
   "execution_count": null,
   "metadata": {
    "vscode": {
     "languageId": "plaintext"
    }
   },
   "outputs": [],
   "source": [
    "# Filter out rows with \"unknown\" in the loan and housing columns\n",
    "data = data[(data['loan'] != 'unknown') & (data['housing'] != 'unknown')]\n",
    "\n",
    "# Verify the number of remaining rows\n",
    "print(f\"Remaining rows after filtering: {len(data)}\")\n"
   ]
  },
  {
   "cell_type": "markdown",
   "metadata": {},
   "source": [
    "dropped the duration column a it directly affects the prediction"
   ]
  },
  {
   "cell_type": "code",
   "execution_count": null,
   "metadata": {
    "vscode": {
     "languageId": "plaintext"
    }
   },
   "outputs": [],
   "source": [
    "# Drop the 'duration' column\n",
    "data = data.drop(columns=['duration'])\n",
    "\n",
    "# Check the remaining columns\n",
    "print(f\"Remaining columns: {data.columns}\")"
   ]
  }
 ],
 "metadata": {
  "language_info": {
   "name": "python"
  }
 },
 "nbformat": 4,
 "nbformat_minor": 2
}
