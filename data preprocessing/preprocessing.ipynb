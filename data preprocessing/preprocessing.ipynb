{
 "cells": [
  {
   "cell_type": "markdown",
   "metadata": {},
   "source": [
    "loading the data and checking unknown values"
   ]
  },
  {
   "cell_type": "code",
   "execution_count": null,
   "metadata": {
    "vscode": {
     "languageId": "plaintext"
    }
   },
   "outputs": [],
   "source": [
    "import pandas as pd\n",
    "\n",
    "# Load the dataset (update the path as needed)\n",
    "data = pd.read_csv('bank-additional-full.csv', sep=';')\n",
    "\n",
    "\n",
    "# Preview the dataset\n",
    "print(data.head())\n",
    "\n",
    "# Check for data types and missing values\n",
    "print(data.info())\n",
    "print(data.isnull().sum())\n",
    "\n",
    "\n",
    "# Count the occurrences of \"unknown\" in each column\n",
    "unknown_counts = data.apply(lambda col: col[col == \"unknown\"].count())\n",
    "\n",
    "# Display the counts of \"unknown\" values\n",
    "print(unknown_counts)"
   ]
  }
 ],
 "metadata": {
  "language_info": {
   "name": "python"
  }
 },
 "nbformat": 4,
 "nbformat_minor": 2
}
