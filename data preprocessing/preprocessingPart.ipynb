{
  "nbformat": 4,
  "nbformat_minor": 0,
  "metadata": {
    "colab": {
      "provenance": [],
      "authorship_tag": "ABX9TyOEFlEY6HWCQTBCM9ZLCz/0",
      "include_colab_link": true
    },
    "kernelspec": {
      "name": "python3",
      "display_name": "Python 3"
    },
    "language_info": {
      "name": "python"
    }
  },
  "cells": [
    {
      "cell_type": "markdown",
      "metadata": {
        "id": "view-in-github",
        "colab_type": "text"
      },
      "source": [
        "<a href=\"https://colab.research.google.com/github/vinuka03/machine-learning-CourseWork/blob/preprocessing/data%20preprocessing/preprocessingPart.ipynb\" target=\"_parent\"><img src=\"https://colab.research.google.com/assets/colab-badge.svg\" alt=\"Open In Colab\"/></a>"
      ]
    },
    {
      "cell_type": "code",
      "execution_count": 63,
      "metadata": {
        "id": "l02otcGy7bA2"
      },
      "outputs": [],
      "source": [
        "import pandas as pd\n",
        "\n",
        "# Load the dataset (update the path as needed)\n",
        "data = pd.read_csv('bank-additional-full.csv', sep=';')"
      ]
    },
    {
      "cell_type": "code",
      "source": [
        "# Preview the dataset\n",
        "print(data.head())\n",
        "\n",
        "# Check for data types and missing values\n",
        "print(data.info())\n",
        "\n"
      ],
      "metadata": {
        "colab": {
          "base_uri": "https://localhost:8080/"
        },
        "id": "rH2U_gW9_vSE",
        "outputId": "d68a9d36-d00b-4d99-9dd5-709e2847e65a"
      },
      "execution_count": 64,
      "outputs": [
        {
          "output_type": "stream",
          "name": "stdout",
          "text": [
            "   age        job  marital    education  default housing loan    contact  \\\n",
            "0   56  housemaid  married     basic.4y       no      no   no  telephone   \n",
            "1   57   services  married  high.school  unknown      no   no  telephone   \n",
            "2   37   services  married  high.school       no     yes   no  telephone   \n",
            "3   40     admin.  married     basic.6y       no      no   no  telephone   \n",
            "4   56   services  married  high.school       no      no  yes  telephone   \n",
            "\n",
            "  month day_of_week  ...  campaign  pdays  previous     poutcome emp.var.rate  \\\n",
            "0   may         mon  ...         1    999         0  nonexistent          1.1   \n",
            "1   may         mon  ...         1    999         0  nonexistent          1.1   \n",
            "2   may         mon  ...         1    999         0  nonexistent          1.1   \n",
            "3   may         mon  ...         1    999         0  nonexistent          1.1   \n",
            "4   may         mon  ...         1    999         0  nonexistent          1.1   \n",
            "\n",
            "   cons.price.idx  cons.conf.idx  euribor3m  nr.employed   y  \n",
            "0          93.994          -36.4      4.857       5191.0  no  \n",
            "1          93.994          -36.4      4.857       5191.0  no  \n",
            "2          93.994          -36.4      4.857       5191.0  no  \n",
            "3          93.994          -36.4      4.857       5191.0  no  \n",
            "4          93.994          -36.4      4.857       5191.0  no  \n",
            "\n",
            "[5 rows x 21 columns]\n",
            "<class 'pandas.core.frame.DataFrame'>\n",
            "RangeIndex: 41188 entries, 0 to 41187\n",
            "Data columns (total 21 columns):\n",
            " #   Column          Non-Null Count  Dtype  \n",
            "---  ------          --------------  -----  \n",
            " 0   age             41188 non-null  int64  \n",
            " 1   job             41188 non-null  object \n",
            " 2   marital         41188 non-null  object \n",
            " 3   education       41188 non-null  object \n",
            " 4   default         41188 non-null  object \n",
            " 5   housing         41188 non-null  object \n",
            " 6   loan            41188 non-null  object \n",
            " 7   contact         41188 non-null  object \n",
            " 8   month           41188 non-null  object \n",
            " 9   day_of_week     41188 non-null  object \n",
            " 10  duration        41188 non-null  int64  \n",
            " 11  campaign        41188 non-null  int64  \n",
            " 12  pdays           41188 non-null  int64  \n",
            " 13  previous        41188 non-null  int64  \n",
            " 14  poutcome        41188 non-null  object \n",
            " 15  emp.var.rate    41188 non-null  float64\n",
            " 16  cons.price.idx  41188 non-null  float64\n",
            " 17  cons.conf.idx   41188 non-null  float64\n",
            " 18  euribor3m       41188 non-null  float64\n",
            " 19  nr.employed     41188 non-null  float64\n",
            " 20  y               41188 non-null  object \n",
            "dtypes: float64(5), int64(5), object(11)\n",
            "memory usage: 6.6+ MB\n",
            "None\n"
          ]
        }
      ]
    },
    {
      "cell_type": "code",
      "source": [
        "# Count the occurrences of \"unknown\" in each column\n",
        "unknown_counts = data.apply(lambda col: col[col == \"unknown\"].count())\n",
        "\n",
        "# Display the counts of \"unknown\" values\n",
        "print(unknown_counts)\n"
      ],
      "metadata": {
        "colab": {
          "base_uri": "https://localhost:8080/"
        },
        "id": "0jP4CQKUAzq8",
        "outputId": "0c2158f9-8ed9-4590-c0f5-84a00aac1637"
      },
      "execution_count": 65,
      "outputs": [
        {
          "output_type": "stream",
          "name": "stdout",
          "text": [
            "age                  0\n",
            "job                330\n",
            "marital             80\n",
            "education         1731\n",
            "default           8597\n",
            "housing            990\n",
            "loan               990\n",
            "contact              0\n",
            "month                0\n",
            "day_of_week          0\n",
            "duration             0\n",
            "campaign             0\n",
            "pdays                0\n",
            "previous             0\n",
            "poutcome             0\n",
            "emp.var.rate         0\n",
            "cons.price.idx       0\n",
            "cons.conf.idx        0\n",
            "euribor3m            0\n",
            "nr.employed          0\n",
            "y                    0\n",
            "dtype: int64\n"
          ]
        }
      ]
    },
    {
      "cell_type": "code",
      "source": [
        "# Check for null values in each column\n",
        "null_counts = data.isnull().sum()\n",
        "\n",
        "# Display the counts of null values\n",
        "print(null_counts)\n"
      ],
      "metadata": {
        "colab": {
          "base_uri": "https://localhost:8080/"
        },
        "id": "C75IvoO0D9VZ",
        "outputId": "62501b0e-cca3-493f-eb09-90793f5e19e1"
      },
      "execution_count": 66,
      "outputs": [
        {
          "output_type": "stream",
          "name": "stdout",
          "text": [
            "age               0\n",
            "job               0\n",
            "marital           0\n",
            "education         0\n",
            "default           0\n",
            "housing           0\n",
            "loan              0\n",
            "contact           0\n",
            "month             0\n",
            "day_of_week       0\n",
            "duration          0\n",
            "campaign          0\n",
            "pdays             0\n",
            "previous          0\n",
            "poutcome          0\n",
            "emp.var.rate      0\n",
            "cons.price.idx    0\n",
            "cons.conf.idx     0\n",
            "euribor3m         0\n",
            "nr.employed       0\n",
            "y                 0\n",
            "dtype: int64\n"
          ]
        }
      ]
    },
    {
      "cell_type": "code",
      "source": [
        "# Filter out rows with \"unknown\" in the loan and housing columns\n",
        "data = data[(data['loan'] != 'unknown') & (data['housing'] != 'unknown')]\n",
        "\n",
        "# Verify the number of remaining rows\n",
        "print(f\"Remaining rows after filtering: {len(data)}\")\n"
      ],
      "metadata": {
        "colab": {
          "base_uri": "https://localhost:8080/"
        },
        "id": "_5WSj8W-4afU",
        "outputId": "daf28f38-56e1-4d9e-b09d-eed12aea8a0f"
      },
      "execution_count": 67,
      "outputs": [
        {
          "output_type": "stream",
          "name": "stdout",
          "text": [
            "Remaining rows after filtering: 40198\n"
          ]
        }
      ]
    },
    {
      "cell_type": "code",
      "source": [
        "# Drop the 'duration' column\n",
        "data = data.drop(columns=['duration'])\n",
        "\n",
        "# Check the remaining columns\n",
        "print(f\"Remaining columns: {data.columns}\")\n"
      ],
      "metadata": {
        "colab": {
          "base_uri": "https://localhost:8080/"
        },
        "id": "PkiJLxZY4loR",
        "outputId": "a800449d-b70a-49b6-e694-14ac2972f3de"
      },
      "execution_count": 68,
      "outputs": [
        {
          "output_type": "stream",
          "name": "stdout",
          "text": [
            "Remaining columns: Index(['age', 'job', 'marital', 'education', 'default', 'housing', 'loan',\n",
            "       'contact', 'month', 'day_of_week', 'campaign', 'pdays', 'previous',\n",
            "       'poutcome', 'emp.var.rate', 'cons.price.idx', 'cons.conf.idx',\n",
            "       'euribor3m', 'nr.employed', 'y'],\n",
            "      dtype='object')\n"
          ]
        }
      ]
    },
    {
      "cell_type": "code",
      "source": [
        "# Impute \"unknown\" values in other job columns with the mode\n",
        "categorical_columns = ['job' ]\n",
        "for col in categorical_columns:\n",
        "    mode = data[col].mode()[0]  # Get the most frequent value\n",
        "    data[col] = data[col].replace('unknown', mode)\n",
        "\n",
        "# Verify no \"unknown\" values remain\n",
        "unknown_counts = data.apply(lambda col: col[col == \"unknown\"].count())\n",
        "print(unknown_counts)\n"
      ],
      "metadata": {
        "colab": {
          "base_uri": "https://localhost:8080/"
        },
        "id": "UIDEFK6c41ar",
        "outputId": "a01d29e5-662d-4be1-b1d7-6f47254530fd"
      },
      "execution_count": 69,
      "outputs": [
        {
          "output_type": "stream",
          "name": "stdout",
          "text": [
            "age                  0\n",
            "job                  0\n",
            "marital             79\n",
            "education         1691\n",
            "default           8370\n",
            "housing              0\n",
            "loan                 0\n",
            "contact              0\n",
            "month                0\n",
            "day_of_week          0\n",
            "campaign             0\n",
            "pdays                0\n",
            "previous             0\n",
            "poutcome             0\n",
            "emp.var.rate         0\n",
            "cons.price.idx       0\n",
            "cons.conf.idx        0\n",
            "euribor3m            0\n",
            "nr.employed          0\n",
            "y                    0\n",
            "dtype: int64\n"
          ]
        }
      ]
    },
    {
      "cell_type": "code",
      "source": [
        "# Check unique values in 'pdays' before transformation\n",
        "print(data['pdays'].unique())\n"
      ],
      "metadata": {
        "colab": {
          "base_uri": "https://localhost:8080/"
        },
        "id": "TeUZCW0Eer8L",
        "outputId": "bd376b08-69ca-4c04-b048-dac788307d83"
      },
      "execution_count": 70,
      "outputs": [
        {
          "output_type": "stream",
          "name": "stdout",
          "text": [
            "[999   6   4   3   5   1   0  10   7   9  11   2   8  12  13  14  15  16\n",
            "  21  17  18  22  25  26  19  27  20]\n"
          ]
        }
      ]
    },
    {
      "cell_type": "code",
      "source": [
        "# Convert 'pdays' to a binary column: 1 if previously contacted, 0 if not\n",
        "data['pdays'] = (data['pdays'] != 999).astype(int)\n",
        "\n",
        "# Verify the transformation\n",
        "print(data['pdays'].value_counts())\n",
        "\n"
      ],
      "metadata": {
        "colab": {
          "base_uri": "https://localhost:8080/"
        },
        "id": "YVk1mtzDhD9m",
        "outputId": "e77fe166-9312-49f3-91fd-37daee942051"
      },
      "execution_count": 71,
      "outputs": [
        {
          "output_type": "stream",
          "name": "stdout",
          "text": [
            "pdays\n",
            "0    38717\n",
            "1     1481\n",
            "Name: count, dtype: int64\n"
          ]
        }
      ]
    }
  ]
}